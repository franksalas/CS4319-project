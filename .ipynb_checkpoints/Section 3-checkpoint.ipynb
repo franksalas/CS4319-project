{
 "cells": [
  {
   "cell_type": "code",
   "execution_count": 2,
   "metadata": {
    "collapsed": false
   },
   "outputs": [],
   "source": [
    "# for data\n",
    "import pandas as pd\n",
    "from pandas import Series, DataFrame\n",
    "import numpy as np"
   ]
  },
  {
   "cell_type": "code",
   "execution_count": 3,
   "metadata": {
    "collapsed": true
   },
   "outputs": [],
   "source": [
    "# visualization\n",
    "import matplotlib.pyplot as plt\n",
    "import seaborn as sns\n",
    "sns.set_style('whitegrid')\n",
    "%matplotlib inline"
   ]
  },
  {
   "cell_type": "code",
   "execution_count": 4,
   "metadata": {
    "collapsed": true
   },
   "outputs": [],
   "source": [
    "# python2 users\n",
    "from __future__ import division"
   ]
  },
  {
   "cell_type": "code",
   "execution_count": 6,
   "metadata": {
    "collapsed": false
   },
   "outputs": [],
   "source": [
    "# gather data from web\n",
    "import requests\n",
    "\n",
    "# read files into dataframe\n",
    "from StringIO import StringIO"
   ]
  },
  {
   "cell_type": "code",
   "execution_count": 8,
   "metadata": {
    "collapsed": false
   },
   "outputs": [],
   "source": [
    "uh_salary_df = pd.read_csv('uhsal.csv')"
   ]
  },
  {
   "cell_type": "code",
   "execution_count": 9,
   "metadata": {
    "collapsed": false
   },
   "outputs": [
    {
     "name": "stdout",
     "output_type": "stream",
     "text": [
      "<class 'pandas.core.frame.DataFrame'>\n",
      "Int64Index: 14085 entries, 0 to 14084\n",
      "Data columns (total 9 columns):\n",
      "Name         14085 non-null object\n",
      "JobTitle     14085 non-null object\n",
      "Campus       14085 non-null object\n",
      "DeptName     14085 non-null object\n",
      "Sex          14085 non-null object\n",
      "EthnicGrp    14066 non-null object\n",
      "HireDate     14085 non-null object\n",
      "FullPart     14085 non-null object\n",
      "AnnualSal    14085 non-null float64\n",
      "dtypes: float64(1), object(8)\n",
      "memory usage: 1.1+ MB\n"
     ]
    }
   ],
   "source": [
    "uh_salary_df.info()"
   ]
  },
  {
   "cell_type": "code",
   "execution_count": 10,
   "metadata": {
    "collapsed": false
   },
   "outputs": [
    {
     "data": {
      "text/html": [
       "<div>\n",
       "<table border=\"1\" class=\"dataframe\">\n",
       "  <thead>\n",
       "    <tr style=\"text-align: right;\">\n",
       "      <th></th>\n",
       "      <th>Name</th>\n",
       "      <th>JobTitle</th>\n",
       "      <th>Campus</th>\n",
       "      <th>DeptName</th>\n",
       "      <th>Sex</th>\n",
       "      <th>EthnicGrp</th>\n",
       "      <th>HireDate</th>\n",
       "      <th>FullPart</th>\n",
       "      <th>AnnualSal</th>\n",
       "    </tr>\n",
       "  </thead>\n",
       "  <tbody>\n",
       "    <tr>\n",
       "      <th>0</th>\n",
       "      <td>Vitek,Mark Gerard</td>\n",
       "      <td>Asst Dir, RLH Conduct/Assessmt</td>\n",
       "      <td>HR730</td>\n",
       "      <td>Student Housing &amp; Res Life</td>\n",
       "      <td>M</td>\n",
       "      <td>WHITE</td>\n",
       "      <td>3/23/09</td>\n",
       "      <td>Full-Time</td>\n",
       "      <td>69700.08</td>\n",
       "    </tr>\n",
       "    <tr>\n",
       "      <th>1</th>\n",
       "      <td>Haynes,Eleanor Beavers</td>\n",
       "      <td>Adjunct Faculty</td>\n",
       "      <td>HR730</td>\n",
       "      <td>Dean, Law</td>\n",
       "      <td>F</td>\n",
       "      <td>BLACK</td>\n",
       "      <td>9/1/10</td>\n",
       "      <td>Part-Time</td>\n",
       "      <td>4400.01</td>\n",
       "    </tr>\n",
       "    <tr>\n",
       "      <th>2</th>\n",
       "      <td>Greer,Tomika</td>\n",
       "      <td>Visiting Assistant Professor</td>\n",
       "      <td>HR730</td>\n",
       "      <td>Human Develop &amp; Consumer Sci</td>\n",
       "      <td>F</td>\n",
       "      <td>BLACK</td>\n",
       "      <td>9/1/10</td>\n",
       "      <td>Full-Time</td>\n",
       "      <td>61950.00</td>\n",
       "    </tr>\n",
       "    <tr>\n",
       "      <th>3</th>\n",
       "      <td>Yuan,Xiaojing</td>\n",
       "      <td>Associate Professor</td>\n",
       "      <td>HR730</td>\n",
       "      <td>Electrical Technology</td>\n",
       "      <td>F</td>\n",
       "      <td>ASIAN</td>\n",
       "      <td>8/1/04</td>\n",
       "      <td>Full-Time</td>\n",
       "      <td>93764.97</td>\n",
       "    </tr>\n",
       "    <tr>\n",
       "      <th>4</th>\n",
       "      <td>Quintero,Sam</td>\n",
       "      <td>Adjunct Associate Professor</td>\n",
       "      <td>HR730</td>\n",
       "      <td>Dean, Optometry</td>\n",
       "      <td>M</td>\n",
       "      <td>HISPA</td>\n",
       "      <td>9/1/72</td>\n",
       "      <td>Full-Time</td>\n",
       "      <td>95900.04</td>\n",
       "    </tr>\n",
       "  </tbody>\n",
       "</table>\n",
       "</div>"
      ],
      "text/plain": [
       "                     Name                        JobTitle Campus  \\\n",
       "0       Vitek,Mark Gerard  Asst Dir, RLH Conduct/Assessmt  HR730   \n",
       "1  Haynes,Eleanor Beavers                 Adjunct Faculty  HR730   \n",
       "2            Greer,Tomika    Visiting Assistant Professor  HR730   \n",
       "3           Yuan,Xiaojing             Associate Professor  HR730   \n",
       "4            Quintero,Sam     Adjunct Associate Professor  HR730   \n",
       "\n",
       "                       DeptName Sex EthnicGrp HireDate   FullPart  AnnualSal  \n",
       "0    Student Housing & Res Life   M     WHITE  3/23/09  Full-Time   69700.08  \n",
       "1                     Dean, Law   F     BLACK   9/1/10  Part-Time    4400.01  \n",
       "2  Human Develop & Consumer Sci   F     BLACK   9/1/10  Full-Time   61950.00  \n",
       "3         Electrical Technology   F     ASIAN   8/1/04  Full-Time   93764.97  \n",
       "4               Dean, Optometry   M     HISPA   9/1/72  Full-Time   95900.04  "
      ]
     },
     "execution_count": 10,
     "metadata": {},
     "output_type": "execute_result"
    }
   ],
   "source": [
    "uh_salary_df.head()"
   ]
  },
  {
   "cell_type": "code",
   "execution_count": 13,
   "metadata": {
    "collapsed": false
   },
   "outputs": [
    {
     "data": {
      "text/plain": [
       "<seaborn.axisgrid.FacetGrid at 0x10c53be10>"
      ]
     },
     "execution_count": 13,
     "metadata": {},
     "output_type": "execute_result"
    },
    {
     "data": {
      "image/png": "[encoded data removed]",
      "text/plain": [
       "<matplotlib.figure.Figure at 0x10c489dd0>"
      ]
     },
     "metadata": {},
     "output_type": "display_data"
    }
   ],
   "source": [
    "sns.factorplot('Campus', data=uh_salary_df, kind=\"count\")"
   ]
  },
  {
   "cell_type": "code",
   "execution_count": 19,
   "metadata": {
    "collapsed": false
   },
   "outputs": [
    {
     "data": {
      "text/plain": [
       "<seaborn.axisgrid.FacetGrid at 0x10d057050>"
      ]
     },
     "execution_count": 19,
     "metadata": {},
     "output_type": "execute_result"
    },
    {
     "data": {
      "image/png": "[encoded data removed]",
      "text/plain": [
       "<matplotlib.figure.Figure at 0x10d057b10>"
      ]
     },
     "metadata": {},
     "output_type": "display_data"
    }
   ],
   "source": [
    "sns.factorplot('Campus', data=uh_salary_df, hue='Sex',kind=\"count\")"
   ]
  },
  {
   "cell_type": "code",
   "execution_count": 20,
   "metadata": {
    "collapsed": false
   },
   "outputs": [
    {
     "data": {
      "text/html": [
       "<div>\n",
       "<table border=\"1\" class=\"dataframe\">\n",
       "  <thead>\n",
       "    <tr style=\"text-align: right;\">\n",
       "      <th></th>\n",
       "      <th>Name</th>\n",
       "      <th>JobTitle</th>\n",
       "      <th>Campus</th>\n",
       "      <th>DeptName</th>\n",
       "      <th>Sex</th>\n",
       "      <th>EthnicGrp</th>\n",
       "      <th>HireDate</th>\n",
       "      <th>FullPart</th>\n",
       "      <th>AnnualSal</th>\n",
       "    </tr>\n",
       "  </thead>\n",
       "  <tbody>\n",
       "    <tr>\n",
       "      <th>0</th>\n",
       "      <td>Vitek,Mark Gerard</td>\n",
       "      <td>Asst Dir, RLH Conduct/Assessmt</td>\n",
       "      <td>HR730</td>\n",
       "      <td>Student Housing &amp; Res Life</td>\n",
       "      <td>M</td>\n",
       "      <td>WHITE</td>\n",
       "      <td>3/23/09</td>\n",
       "      <td>Full-Time</td>\n",
       "      <td>69700.08</td>\n",
       "    </tr>\n",
       "    <tr>\n",
       "      <th>1</th>\n",
       "      <td>Haynes,Eleanor Beavers</td>\n",
       "      <td>Adjunct Faculty</td>\n",
       "      <td>HR730</td>\n",
       "      <td>Dean, Law</td>\n",
       "      <td>F</td>\n",
       "      <td>BLACK</td>\n",
       "      <td>9/1/10</td>\n",
       "      <td>Part-Time</td>\n",
       "      <td>4400.01</td>\n",
       "    </tr>\n",
       "    <tr>\n",
       "      <th>2</th>\n",
       "      <td>Greer,Tomika</td>\n",
       "      <td>Visiting Assistant Professor</td>\n",
       "      <td>HR730</td>\n",
       "      <td>Human Develop &amp; Consumer Sci</td>\n",
       "      <td>F</td>\n",
       "      <td>BLACK</td>\n",
       "      <td>9/1/10</td>\n",
       "      <td>Full-Time</td>\n",
       "      <td>61950.00</td>\n",
       "    </tr>\n",
       "    <tr>\n",
       "      <th>3</th>\n",
       "      <td>Yuan,Xiaojing</td>\n",
       "      <td>Associate Professor</td>\n",
       "      <td>HR730</td>\n",
       "      <td>Electrical Technology</td>\n",
       "      <td>F</td>\n",
       "      <td>ASIAN</td>\n",
       "      <td>8/1/04</td>\n",
       "      <td>Full-Time</td>\n",
       "      <td>93764.97</td>\n",
       "    </tr>\n",
       "    <tr>\n",
       "      <th>4</th>\n",
       "      <td>Quintero,Sam</td>\n",
       "      <td>Adjunct Associate Professor</td>\n",
       "      <td>HR730</td>\n",
       "      <td>Dean, Optometry</td>\n",
       "      <td>M</td>\n",
       "      <td>HISPA</td>\n",
       "      <td>9/1/72</td>\n",
       "      <td>Full-Time</td>\n",
       "      <td>95900.04</td>\n",
       "    </tr>\n",
       "  </tbody>\n",
       "</table>\n",
       "</div>"
      ],
      "text/plain": [
       "                     Name                        JobTitle Campus  \\\n",
       "0       Vitek,Mark Gerard  Asst Dir, RLH Conduct/Assessmt  HR730   \n",
       "1  Haynes,Eleanor Beavers                 Adjunct Faculty  HR730   \n",
       "2            Greer,Tomika    Visiting Assistant Professor  HR730   \n",
       "3           Yuan,Xiaojing             Associate Professor  HR730   \n",
       "4            Quintero,Sam     Adjunct Associate Professor  HR730   \n",
       "\n",
       "                       DeptName Sex EthnicGrp HireDate   FullPart  AnnualSal  \n",
       "0    Student Housing & Res Life   M     WHITE  3/23/09  Full-Time   69700.08  \n",
       "1                     Dean, Law   F     BLACK   9/1/10  Part-Time    4400.01  \n",
       "2  Human Develop & Consumer Sci   F     BLACK   9/1/10  Full-Time   61950.00  \n",
       "3         Electrical Technology   F     ASIAN   8/1/04  Full-Time   93764.97  \n",
       "4               Dean, Optometry   M     HISPA   9/1/72  Full-Time   95900.04  "
      ]
     },
     "execution_count": 20,
     "metadata": {},
     "output_type": "execute_result"
    }
   ],
   "source": [
    "uh_salary_df.head()"
   ]
  },
  {
   "cell_type": "code",
   "execution_count": 22,
   "metadata": {
    "collapsed": true
   },
   "outputs": [],
   "source": [
    "avg = pd.DataFrame(uh_salary_df.mean())\n",
    "\n",
    "#"
   ]
  },
  {
   "cell_type": "code",
   "execution_count": 23,
   "metadata": {
    "collapsed": false
   },
   "outputs": [
    {
     "data": {
      "text/html": [
       "<div>\n",
       "<table border=\"1\" class=\"dataframe\">\n",
       "  <thead>\n",
       "    <tr style=\"text-align: right;\">\n",
       "      <th></th>\n",
       "      <th>0</th>\n",
       "    </tr>\n",
       "  </thead>\n",
       "  <tbody>\n",
       "    <tr>\n",
       "      <th>AnnualSal</th>\n",
       "      <td>39811.989863</td>\n",
       "    </tr>\n",
       "  </tbody>\n",
       "</table>\n",
       "</div>"
      ],
      "text/plain": [
       "                      0\n",
       "AnnualSal  39811.989863"
      ]
     },
     "execution_count": 23,
     "metadata": {},
     "output_type": "execute_result"
    }
   ],
   "source": [
    "avg.head()"
   ]
  },
  {
   "cell_type": "code",
   "execution_count": null,
   "metadata": {
    "collapsed": true
   },
   "outputs": [],
   "source": []
  }
 ],
 "metadata": {
  "kernelspec": {
   "display_name": "Python 2",
   "language": "python",
   "name": "python2"
  },
  "language_info": {
   "codemirror_mode": {
    "name": "ipython",
    "version": 2
   },
   "file_extension": ".py",
   "mimetype": "text/x-python",
   "name": "python",
   "nbconvert_exporter": "python",
   "pygments_lexer": "ipython2",
   "version": "2.7.11"
  }
 },
 "nbformat": 4,
 "nbformat_minor": 0
}
